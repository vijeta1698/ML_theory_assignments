{
 "cells": [
  {
   "cell_type": "code",
   "execution_count": 1,
   "id": "39988b28",
   "metadata": {},
   "outputs": [],
   "source": [
    "# 1. What exactly is a feature? Give an example to illustrate your point."
   ]
  },
  {
   "cell_type": "markdown",
   "id": "c860fb3e",
   "metadata": {},
   "source": [
    "<p>Machine learning has its roots in statistical analysis. As a consequence, it’s often very simple to understand concepts in machine learning by looking at their counterpart in statistics.<br>\n",
    "For example, in statistics, they say that a “population” is a set that statisticians study. In machine learning, instead, we normally called that same full set “a dataset”. Similarly, in statistics, they call each individual in a population a “unit”, while in machine learning we call it “observation”.</p>"
   ]
  },
  {
   "cell_type": "code",
   "execution_count": 2,
   "id": "88ed642d",
   "metadata": {},
   "outputs": [],
   "source": [
    "# 2. What are the various circumstances in which feature construction is required?"
   ]
  },
  {
   "cell_type": "markdown",
   "id": "b2ff3cfd",
   "metadata": {},
   "source": [
    "Top reasons to use feature selection are:<br>\n",
    "\n",
    "It enables the machine learning algorithm to train faster.<br>\n",
    "It reduces the complexity of a model and makes it easier to interpret.<br>\n",
    "It improves the accuracy of a model if the right subset is chosen.<br>\n",
    "It reduces overfitting.<br>"
   ]
  },
  {
   "cell_type": "code",
   "execution_count": 3,
   "id": "94ed6fbe",
   "metadata": {},
   "outputs": [],
   "source": [
    "# 3. Describe how nominal variables are encoded."
   ]
  },
  {
   "cell_type": "markdown",
   "id": "cc803d82",
   "metadata": {},
   "source": [
    "<p>Nominal data is made of discrete values with no numerical relationship between the different categories — mean and median are meaningless. Animal species is one example. For example, pig is not higher than bird and lower than fish.</p>\n",
    "<p>We use this categorical data encoding technique when the features are nominal(do not have any order). In one hot encoding, for each level of a categorical feature, we create a new variable. Each category is mapped with a binary variable containing either 0 or 1. Here, 0 represents the absence, and 1 represents the presence of that category.</p>"
   ]
  },
  {
   "cell_type": "code",
   "execution_count": 4,
   "id": "fe8aa68d",
   "metadata": {},
   "outputs": [],
   "source": [
    "# 4. Describe how numeric features are converted to categorical features."
   ]
  },
  {
   "cell_type": "markdown",
   "id": "273f80b0",
   "metadata": {},
   "source": [
    "<p>In machine-learning literature, the process is usually called discretization of continuous data.</p>\n",
    "<p>Very few machine-learning algorithms work with mixed data, so you can convert the numeric data to categorical data and then use a machine-learning algorithm that works with categorical data.</p>\n"
   ]
  },
  {
   "cell_type": "code",
   "execution_count": 5,
   "id": "1f87eb88",
   "metadata": {},
   "outputs": [],
   "source": [
    "# 5. Describe the feature selection wrapper approach. State the advantages and disadvantages of this\n",
    "# approach?"
   ]
  },
  {
   "cell_type": "markdown",
   "id": "f5715d69",
   "metadata": {},
   "source": [
    "<p>In wrapper methods, the feature selection process is based on a specific machine learning algorithm that we are trying to fit on a given dataset. Finally, it selects the combination of features that gives the optimal results for the specified machine learning algorithm.</p>\n",
    "<p></p>"
   ]
  }
 ],
 "metadata": {
  "kernelspec": {
   "display_name": "Python 3 (ipykernel)",
   "language": "python",
   "name": "python3"
  },
  "language_info": {
   "codemirror_mode": {
    "name": "ipython",
    "version": 3
   },
   "file_extension": ".py",
   "mimetype": "text/x-python",
   "name": "python",
   "nbconvert_exporter": "python",
   "pygments_lexer": "ipython3",
   "version": "3.10.1"
  }
 },
 "nbformat": 4,
 "nbformat_minor": 5
}

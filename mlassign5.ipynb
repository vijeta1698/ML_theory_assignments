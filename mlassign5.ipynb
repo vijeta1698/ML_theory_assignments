{
 "cells": [
  {
   "cell_type": "code",
   "execution_count": 1,
   "metadata": {},
   "outputs": [],
   "source": [
    "#1. What are the key tasks that machine learning entails? What does data pre-processing imply?"
   ]
  },
  {
   "cell_type": "markdown",
   "metadata": {},
   "source": [
    "Ml entails follow. taska <br>\n",
    "<b>Supervised Learning\n",
    "</b>    Classification and Regression are examples of Machine Learning. The task of classification is to predict what class an instance of data should fall into. Another task in machine learning is a regression which predicts a numeric value.  Classification deals with predicting discrete value like True/False, Male/Female, 1/2/3 Regression is used when the class to predict is of continuous value say from 0 to 100, -inf to +inf. The best example of regression is a best-fit line drawn through some data points to generalize the data points. This set of problems is called as supervised learning because here we tell the algorithm what to predict i.e. we know the label or target value.\n",
    "\n",
    "<b>Unsupervised Learning</b>\n",
    "    In unsupervised learning, there's no label or target value given for the data. A task where similar items grouped together to form a cluster is known as clustering. Another task of unsupervised learning may be reducing the data from many features to a small number so that it becomes easier to visualize it in two or three dimensions.<br><br>\n",
    "\n",
    "Data preprocessing is the process of transforming raw data into an understandable format. It is also an important step in data mining as we cannot work with raw data. The quality of the data should be checked before applying machine learning or data mining algorithms.\n",
    "\n",
    "<b>Data preprocessing importt</b>\n",
    "Preprocessing of data is mainly to check the data quality. The quality can be checked by the following\n",
    "\n",
    "Accuracy: To check whether the data entered is correct or not.\n",
    "Completeness: To check whether the data is available or not recorded.\n",
    "Consistency: To check whether the same data is kept in all the places that do or do not match.\n",
    "Timeliness: The data should be updated correctly.\n",
    "Believability: The data should be trustable.\n",
    "Interpretability: The understandability of the data.\n",
    "Major Tasks in Data Preprocessing:\n",
    "Data cleaning\n",
    "Data integration\n",
    "Data reduction\n",
    "Data transformation\n"
   ]
  },
  {
   "cell_type": "code",
   "execution_count": 2,
   "metadata": {},
   "outputs": [],
   "source": [
    "#2. Describe quantitative and qualitative data in depth. Make a distinction between the two."
   ]
  },
  {
   "cell_type": "markdown",
   "metadata": {},
   "source": [
    "The main differences between quantitative and qualitative data lie in what they tell us, how they are collected, and how they are analyzed. Let’s summarize the key differences before exploring each aspect in more detail:\n",
    "\n",
    "<b>Quantitative data</b> is countable or measurable, relating to numbers. Qualitative data is descriptive, relating to language.<br>\n",
    "<b>Quantitative data </b>tells us how many, how much, or how often (e.g. “20 people signed up to our email newsletter last week”). Qualitative data can help us to understand the “why” or “how” behind certain behaviors, or it can simply describe a certain attribute—for example, “The postbox is red” or “I signed up to the email newsletter because I’m really interested in hearing about local events.”<br>\n",
    "Quantitative data is fixed and “universal,” while qualitative data is subjective and dynamic. For example, if something weighs 20 kilograms, that can be considered an objective fact. However, two people may have very different qualitative accounts of how they experience a particular event.<br>\n",
    "Quantitative data is gathered by measuring and counting. <br>Qualitative data is collected by interviewing and observing.<br>\n",
    "Quantitative data is analyzed using statistical analysis, while qualitative data is analyzed by grouping it in terms of meaningful categories or themes.<br>\n",
    "<b>The difference between quantitative and qualitative data: An example</b>\n",
    "To illustrate the difference between quantitative and qualitative data, let’s use an example. Imagine you want to describe your best friend. What kind of data might you gather or use to paint a vivid picture?\n",
    "\n",
    "First, you might describe their physical attributes, such as their height, their hair style and color, what size feet they have, and how much they weigh. Then you might describe some of their most prominent personality traits. On top of that, you could describe how many siblings and pets they have, where they live, and how often they go swimming (their favorite hobby).\n",
    "\n",
    "All of that data will fall into either the quantitative or qualitative categories, as follows:\n",
    "\n",
    "Quantitative data:\n",
    "My best friend is 5 feet and 7 inches tall\n",
    "They have size 6 feet\n",
    "They weigh 63 kilograms\n",
    "My best friend has one older sibling and two younger siblings\n",
    "They have two cats\n",
    "My best friend lives twenty miles away from me\n",
    "They go swimming four times a week\n",
    "Qualitative data:\n",
    "My best friend has curly brown hair\n",
    "They have green eyes\n",
    "My best friend is funny, loud, and a good listener\n",
    "They can also be quite impatient and impulsive at times\n",
    "My best friend drives a red car\n",
    "They have a very friendly face and a contagious laugh\n",
    "Of course, when working as a researcher or data analyst, you’ll be handling much more complex data than the examples we’ve given. However, our “best friend” example has hopefully made it easier for you to distinguish between quantitative and qualitative data."
   ]
  },
  {
   "cell_type": "code",
   "execution_count": 3,
   "metadata": {},
   "outputs": [],
   "source": [
    "#3. Create a basic data collection that includes some sample records. Have at least one attribute from each of the machine learning data types."
   ]
  },
  {
   "cell_type": "markdown",
   "metadata": {},
   "source": [
    "<b> srNum</b>  <b> Name</b>   <b>Subject</b>   <b>Score</b><br>\n",
    "1                  Ayush        Science          90<br>\n",
    "2                  Nandini      Maths            80<br>\n",
    "3                  shripal      Commerce         70<br>\n",
    "1                  Mahima       Arts             90<br>\n",
    "2                  Mahesh       English          50<br>\n",
    "3                  Nin          Computer         30<br>"
   ]
  },
  {
   "cell_type": "code",
   "execution_count": 5,
   "metadata": {},
   "outputs": [],
   "source": [
    "#4. What are the various causes of machine learning data issues? What are the ramifications?"
   ]
  },
  {
   "cell_type": "markdown",
   "metadata": {},
   "source": [
    "<b>1) Understanding Which Processes Need Automation</b><br>\n",
    "It's becoming increasingly difficult to separate fact from fiction in terms of Machine Learning today. Before you decide on which AI platform to use, you need to evaluate which problems you’re seeking to solve. The easiest processes to automate are the ones that are done manually every day with no variable output. Complicated processes require further inspection before automation. While Machine Learning can definitely help automate some processes, not all automation problems need Machine Learning.\n",
    "<b>2) Lack of Quality Data</b><br>\n",
    "The number one problem facing Machine Learning is the lack of good data. While enhancing algorithms often consumes most of the time of developers in AI, data quality is essential for the algorithms to function as intended. Noisy data, dirty data, and incomplete data are the quintessential enemies of ideal Machine Learning. The solution to this conundrum is to take the time to evaluate and scope data with meticulous data governance, data integration, and data exploration until you get clear data. You should do this before you start.\n",
    "<b>3) Inadequate Infrastructure\n",
    "</b><br>\n",
    "Machine Learning requires vast amounts of data churning capabilities. Legacy systems often can’t handle the workload and buckle under pressure. You should check if your infrastructure can handle Machine Learning. If it can’t, you should look to upgrade, complete with hardware acceleration and flexible storage.\n",
    "<b>4) Implementation</b><br>\n",
    "Organizations often have analytics engines working with them by the time they choose to upgrade to Machine Learning. Integrating newer Machine Learning methodologies into existing methodologies is a complicated task. Maintaining proper interpretation and documentation goes a long way to easing implementation. Partnering with an implementation partner can make the implementation of services like anomaly detection, predictive analysis, and ensemble modeling much easier.\n",
    "\n",
    "<b>5) Lack of Skilled Resources</b><br>\n",
    "Deep analytics and Machine Learning in their current forms are still new technologies. Thus, there is a shortage of skilled employees available to manage and develop analytical content for Machine Learning. Data scientists often need a combination of domain experience as well as in-depth knowledge of science, technology, and mathematics. Recruitment will require you to pay large salaries as these employees are often in high-demand and know their worth. You can also approach your vendor for staffing help as many managed service providers keep a list of skilled data scientists to deploy anytime.\n"
   ]
  },
  {
   "cell_type": "code",
   "execution_count": 8,
   "metadata": {},
   "outputs": [],
   "source": [
    "#5. Demonstrate various approaches to categorical data exploration with appropriate examples."
   ]
  },
  {
   "cell_type": "markdown",
   "metadata": {},
   "source": [
    "Such variables take on a fixed and limited number of possible values. For example – grades, gender, blood group type, etc. Also, in the case of categorical variables, the logical order is not the same as categorical data e.g. “one”, “two”, “three”. But the sorting of these variables uses logical order. For example, gender is a categorical variable and has categories – male and female and there is no intrinsic ordering to the categories. A purely categorical variable is one that simply allows you to assign categories, but you cannot clearly order the variables.<br>\n",
    "<b>Terms related to Variability Metrics :</b>\n",
    "<b>Mode :</b> Most frequently occurring value in the given data\n",
    "Example-\n",
    "Data = [\"Car\", \"Bat\", \"Bat\", \"Car\", \"Bat\", \"Bat\", \"Bat\", \"Bike\"]\n",
    "Mode = \"Bat\"\n",
    "<b>Expected Value :</b> When working in machine learning, categories have to be associated with a numeric value, so as to give understanding to the machine. This gives an average value based on a category’s probability of occurrence i.e. Expected Value.\n",
    "It is calculated by –\n",
    "-> Multiply each outcome by its probability of occurring.\n",
    "-> Sum these values\n",
    "\n",
    "<b>Bar Charts : </b>Frequency of each category plotted as bars.<br>\n",
    "Loading Libraries –\n",
    "\n"
   ]
  },
  {
   "cell_type": "code",
   "execution_count": 12,
   "metadata": {},
   "outputs": [
    {
     "name": "stdout",
     "output_type": "stream",
     "text": [
      "Total Labels :  6\n",
      "Indexing :  [0 1 2 3 4 5]\n"
     ]
    },
    {
     "data": {
      "image/png": "[encoded data removed]",
      "text/plain": [
       "<Figure size 432x288 with 1 Axes>"
      ]
     },
     "metadata": {
      "needs_background": "light"
     },
     "output_type": "display_data"
    }
   ],
   "source": [
    "import matplotlib.pyplot as plt\n",
    "import numpy as np\n",
    "\n",
    "label = ['Car', 'Bike', 'Truck', 'Cycle', 'Jeeps', 'Amulance']\n",
    "no_vehicle = [941, 854, 4595, 2125, 942, 509]\n",
    "index = np.arange(len(label))\n",
    "  \n",
    "print (\"Total Labels : \", len(label))\n",
    "print (\"Indexing : \", index)\n",
    "\n",
    "plt.bar(index, no_vehicle)\n",
    "plt.xlabel('Type', fontsize = 15)\n",
    "plt.ylabel('No of Vehicles', fontsize = 15)\n",
    "plt.xticks(index, label, fontsize = 10, rotation = 30)\n",
    "plt.title('Market Share for Each Genre 1995-2017')\n",
    "  \n",
    "plt.show()"
   ]
  },
  {
   "cell_type": "code",
   "execution_count": 13,
   "metadata": {},
   "outputs": [],
   "source": [
    "#7. Describe the various methods for dealing with missing data values in depth."
   ]
  },
  {
   "cell_type": "markdown",
   "metadata": {},
   "source": [
    "<b>1. Mean or Median Imputation</b><br>\n",
    "When data is missing at random, we can use list-wise or pair-wise deletion of the missing observations. However, there can be multiple reasons why this may not be the most feasible option:\n",
    "\n",
    "There may not be enough observations with non-missing data to produce a reliable analysis\n",
    "In predictive analytics, missing data can prevent the predictions for those observations which have missing data\n",
    "External factors may require specific observations to be part of the analysis\n",
    "In such cases, we impute values for missing data. A common technique is to use the mean or median of the non-missing observations. This can be useful in cases where the number of missing observations is low. However, for large number of missing values, using mean or median can result in loss of variation in data and it is better to use imputations. Depending upon the nature of the missing data, we use different techniques to impute data that have been described below.\n",
    "\n",
    "<b>2. Multivariate Imputation by Chained Equations (MICE)</b><br>\n",
    "MICE assumes that the missing data are Missing at Random (MAR). It imputes data on a variable-by-variable basis by specifying an imputation model per variable. MICE uses predictive mean matching (PMM) for continuous variables, logistic regressions for binary variables, bayesian polytomous regressions for factor variables, and proportional odds model for ordered variables to impute missing data.\n",
    "\n",
    "To set up the data for MICE, it is important to note that the algorithm uses all the variables in the data for predictions. In this case, variables that may not be useful for predictions, like the ID variable, should be removed before implementing this algorithm.<br>\n",
    "<b>3. Random Forest</b><br>\n",
    "Random forest is a non-parametric imputation method applicable to various variable types that works well with both data missing at random and not missing at random. Random forest uses multiple decision trees to estimate missing values and outputs OOB (out of bag) imputation error estimates. \n",
    "\n",
    "One caveat is that random forest works best with large datasets and using random forest on small datasets runs the risk of overfitting. The extent of overfitting leading to inaccurate imputations will depend upon how closely the distribution for predictor variables for non-missing data resembles the distribution of predictor variables for missing data. For example, if the distribution of race/ethnicity for non-missing data is similar to the distribution of race/ethnicity for missing data, overfitting is not likely to throw off results. However, if the two distributions differ, the accuracy of imputations will suffer.\n",
    "\n",
    "The MICE library in R also allows imputations by random forest by setting the method to “rf”. The authors of the MICE library have provided an example on how to implement the random forest method here.\n",
    "\n",
    "To sum up data imputations is tricky and should be done with care. It is important to understand the nature of the data that is missing when deciding which algorithm to use for imputations. While using the above algorithms, predictor variables should be set up carefully to avoid confusion in the methods implemented during imputation. Finally, you can test the quality of your imputations by normalized root mean square error (NRMSE) for continuous variables and proportion of falsely classified (PFC) for categorical variables.\n",
    "\n",
    " "
   ]
  },
  {
   "cell_type": "code",
   "execution_count": 15,
   "metadata": {},
   "outputs": [],
   "source": [
    "#8. What are the various data pre-processing techniques? Explain dimensionality reduction and function selection in a few word\n"
   ]
  },
  {
   "cell_type": "markdown",
   "metadata": {},
   "source": [
    "<b>Data Preprocessing Techniques</b><br>\n",
    "<b>Data Cleaning :</b><br>\n",
    "Data in the real world is frequently incomplete, noisy, and inconsistent. Many bits of the data may be irrelevant or missing. Data cleaning is carried out to handle this aspect. Data cleaning methods aim to fill in missing values, smooth out noise while identifying outliers, and fix data discrepancies. Unclean data can confuse data and the model. Therefore, running the data through various Data Cleaning/Cleansing methods is an important Data Preprocessing step.\n",
    "<b>(a) Missing Data :</b><br>\n",
    "It’s fairly common for your dataset to contain missing values. It could have happened during data collection or as a result of a data validation rule, but missing values must be considered anyway.\n",
    "<b>Dropping rows/columns:</b> If the complete row is having NaN values then it doesn't make any value out of it. So such rows/columns are to be dropped immediately. Or if the % of row/column is mostly missing say about more than 65% then also one can choose to drop.\n",
    "<b>Checking for duplicates:</b> If the same row or column is repeated then also you can drop it by keeping the first instance. So that while running machine learning algorithms, so as not to offer that particular data object an advantage or bias.\n",
    "Estimate missing values: If only a small percentage of the values are missing, basic interpolation methods can be used to fill in the gaps. However, the most typical approach of dealing with missing data is to fill them in with the feature’s mean, median, or mode value.\n",
    "<b>(b) Noisy Data:</b>\n",
    "Noisy data is meaningless data that machines cannot interpret. It can be caused by poor data collecting, data input problems, and so on. It can be dealt with in the following ways:\n",
    "<b>Binning Method: </b>This method smooths data that has been sorted. The data is divided into equal-sized parts, and the process is completed using a variety of approaches. Each segment is dealt with independently. All data in a segment can be replaced by its mean, or boundary values can be used to complete the task.\n",
    "<b>Clustering:</b> In this method, related data is grouped in a cluster. Outliers may go unnoticed, or they may fall outside of clusters.\n",
    "<b>Regression:</b> By fitting data to a regression function, data can be smoothed out. The regression model employed may be linear (with only one independent variable) or multiple (with numerous independent variables) (having multiple independent variables).\n",
    "\n",
    "<b>Data Transformation</b><br>\n",
    "This stage is used to convert the data into a format that can be used in the mining process. This is done in the following ways:\n",
    "<b>1. Normalization:</b>\n",
    "It is done to scale the data values in a specified range (-1.0 to 1.0 or 0.0 to 1.0)<br>\n",
    "<b>2. Concept Hierarchy Generation:</b>\n",
    "Using concept hierarchies, low-level or primitive/raw data is substituted with higher-level concepts in data generalization. Categorical qualities, for example, are generalized to higher-level notions such as street, city, and nation. Similarly, numeric attribute values can be translated to higher-level concepts like age, such as youthful, middle-aged, or elderly.<br>\n",
    "<b>3. Smoothing</b>\n",
    "Smoothing works to remove the noise from the data. Such techniques include binning, clustering, and regression.<br>\n",
    "<b>4. Aggregation</b>\n",
    "Aggregation is the process of applying summary or aggregation operations on data. Daily sales data, for example, might be combined to calculate monthly and annual totals. Feature Aggregation — If the features are highly correlated or if the features can be aggregated into another single feature then it is worth doing it. For example in the dataset you have the height and width of an object then they can be featured into a single feature area. This decreases dimensionality. These types of features are highly correlated in nature as a result it also decreases multicollinearity.\n",
    "<b>Data Reduction:</b>\n",
    "Because data mining is a methodology for dealing with large amounts of data. When dealing with large amounts of data, analysis becomes more difficult. We employ a data reduction technique to get rid of this. Its goal is to improve storage <br>efficiency while lowering data storage and analysis expenses.\n",
    "<b>1. Dimensionality Reduction :</b>\n",
    "A huge number of features may be found in most real-world datasets. Consider an image processing problem: there could be hundreds of features, also known as dimensions, to deal with. As the name suggests, dimensionality reduction seeks to minimize the number of features — but not just by selecting a sample of features from the feature set, which is something else entirely — Feature Subset Selection or feature selection."
   ]
  },
  {
   "cell_type": "code",
   "execution_count": 16,
   "metadata": {},
   "outputs": [],
   "source": [
    "#9.\n",
    "\n",
    "               # i. What is the IQR? What criteria are used to assess it?\n",
    "\n",
    "               #  ii. Describe the various components of a box plot in detail? When will the lower whisker    surpass the upper whisker in length? How can box plots be used to identify outliers?\n",
    "\n"
   ]
  },
  {
   "cell_type": "markdown",
   "metadata": {},
   "source": [
    "<b>i</b><br>\n",
    "Any set of data can be described by its five-number summary. These five numbers, which give you the information you need to find patterns and outliers, consist of (in ascending order):\n",
    "\n",
    "The minimum or lowest value of the dataset<br>\n",
    "The first quartile Q1, which represents a quarter of the way through the list of all data<br>\n",
    "The median of the data set, which represents the midpoint of the whole list of data<br>\n",
    "The third quartile Q3, which represents three-quarters of the way through the list of all data<br>\n",
    "The maximum or highest value of the data set.<br>\n",
    "These five numbers tell a person more about their data than looking at the numbers all at once could, or at least make this much easier. For example, the range, which is the minimum subtracted from the maximum, is one indicator of how spread out the data is in a set (note: the range is highly sensitive to outliers—if an outlier is also a minimum or maximum, the range will not be an accurate representation of the breadth of a data set).<br>\n",
    "\n",
    "<br>\n",
    "Range would be difficult to extrapolate otherwise. Similar to the range but less sensitive to outliers is the interquartile range. The interquartile range is calculated in much the same way as the range. All you do to find it is subtract the first quartile from the third quartile:\n",
    "\n",
    "IQR = Q3 – Q1.\n",
    "<b> ii </b><br>\n",
    "In its simplest form, the boxplot presents five sample statistics - the minimum, the lower quartile, the median, the upper quartile and the maximum - in a visual display. The box of the plot is a rectangle which encloses the middle half of the sample, with an end at each quartile. The length of the box is thus the interquartile range of the sample. The other dimension of the box does not represent anything in particular. A line is drawn across the box at the sample median. Whiskers sprout from the two ends of the box until they reach the sample maximum and minimum. The crossbar at the far end of each whisker is optional and its length signifies nothing. The following diagram shows a dotplot of a sample of 20 observations (actual sample values used in the display) together with a boxplot of the same data.\n",
    "\n",
    "\n"
   ]
  },
  {
   "cell_type": "code",
   "execution_count": null,
   "metadata": {},
   "outputs": [],
   "source": [
    "'''10. Make brief notes on any two of the following:\n",
    "\n",
    "              1. Data collected at regular intervals\n",
    "\n",
    "               2. The gap between the quartiles\n",
    "\n",
    "               3. Use a cross-tab\n",
    "\n",
    "1. Make a comparison between:\n",
    "\n",
    "1. Data with nominal and ordinal values\n",
    "\n",
    "2. Histogram and box plot\n",
    "\n",
    "3. The average and median\n",
    "'''\n"
   ]
  },
  {
   "cell_type": "markdown",
   "metadata": {},
   "source": [
    "Nominal data is a group of non-parametric variables, while Ordinal data is a group of non-parametric ordered variables. Although, they are both non-parametric variables, what differentiates them is the fact that ordinal data is placed into some kind of order by their position.\n",
    "\n",
    "For example, very hot, hot, cold, very cold, warm are all nominal data when considered individually. But when placed on a scale and arranged in a given order (very hot, hot, warm, cold, very cold), they are regarded as ordinal data.<br>\n",
    "Ordinal data is mainly used to carry out investigations that involve getting people's views or opinion on some matter, while nominal data is used for research that involve getting personal data of a person (e.g. biodata), place or thing. Consider a restaurant who needs to collect customer's data before and after service. \n",
    "\n",
    "Nominal data of the customer's name, phone number and order will be taken by the restaurant before service. After service, the restaurant will take ordinal data of the customer's feedback about the service rendered. \n",
    "\n",
    "<br>\n",
    "Although histograms and boxA histogram is highly useful when wide variances exist among the observed frequencies for a particular data set. As seen in the two graphs to the left, the histogram shows that there are three peaks within the data, indicating it is tri-modal (three commonly recurring groups of numbers). This is important because to improve processes, it is critical to understand what is causing these three modes. Had this data simply been graphed using a box plot, the values would average one another out, causing the distribution to look roughly normal.\n",
    "\n",
    "Box plots are collectively part of the chart aid category, they do represent very different types of charts. Both charts effectively represent different data sets; however, in certain situations, one chart may be superior to the other in achieving the goal of identifying variances among data. The type of chart aid chosen depends on the type of data collected, rough analysis of data trends, and project goals.\n",
    "\n",
    "<br>\n",
    "Average\tMean\n",
    "An Average can be defined as the sum of all numbers divided by the total number of values.\tA mean can be defined as an average of the set of values in a sample of data.\n",
    "In other words, an average is also called the arithmetic mean.\tDescribing the average is called a mean. There 2 other kinds of mean - harmonic and geometric mean.\n",
    "An average is calculated for a set of numbers that are of the same value range.\tMean is mostly used in Statistics where the set of values have a vast difference or they are closely related to each other.\n",
    "An average represents a single number from the list of numbers.\tMean is the central point among the set of numbers.\n",
    "The usage of average is seen in day-to-day life as a conversation in the English language.\tThe usage of the mean is seen mostly in a technical and mathematical sense.\n",
    "Through the average, we can also find out the values of the median and mode.\tOn the other hand, the mean does not give the median and mode even though all three - mean, median, and mode, work closely in Statistics.\n",
    "\n"
   ]
  },
  {
   "cell_type": "code",
   "execution_count": null,
   "metadata": {},
   "outputs": [],
   "source": []
  }
 ],
 "metadata": {
  "kernelspec": {
   "display_name": "Python 3",
   "language": "python",
   "name": "python3"
  },
  "language_info": {
   "codemirror_mode": {
    "name": "ipython",
    "version": 3
   },
   "file_extension": ".py",
   "mimetype": "text/x-python",
   "name": "python",
   "nbconvert_exporter": "python",
   "pygments_lexer": "ipython3",
   "version": "3.7.4"
  }
 },
 "nbformat": 4,
 "nbformat_minor": 2
}
